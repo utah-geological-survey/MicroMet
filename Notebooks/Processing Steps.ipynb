{
 "cells": [
  {
   "cell_type": "markdown",
   "id": "b76d8a07",
   "metadata": {},
   "source": [
    "1. In Cardconvert, convert all binary files in Array type CSVs."
   ]
  },
  {
   "cell_type": "code",
   "execution_count": 2,
   "id": "4b83bc05",
   "metadata": {
    "ExecuteTime": {
     "end_time": "2022-08-14T13:53:50.352115Z",
     "start_time": "2022-08-14T13:53:50.331071Z"
    }
   },
   "outputs": [
    {
     "data": {
      "text/html": [
       "        <script type=\"text/javascript\">\n",
       "        window.PlotlyConfig = {MathJaxConfig: 'local'};\n",
       "        if (window.MathJax) {MathJax.Hub.Config({SVG: {font: \"STIX-Web\"}});}\n",
       "        if (typeof require !== 'undefined') {\n",
       "        require.undef(\"plotly\");\n",
       "        requirejs.config({\n",
       "            paths: {\n",
       "                'plotly': ['https://cdn.plot.ly/plotly-2.11.1.min']\n",
       "            }\n",
       "        });\n",
       "        require(['plotly'], function(Plotly) {\n",
       "            window._Plotly = Plotly;\n",
       "        });\n",
       "        }\n",
       "        </script>\n",
       "        "
      ]
     },
     "metadata": {},
     "output_type": "display_data"
    }
   ],
   "source": [
    "%matplotlib inline\n",
    "import os\n",
    "import sys\n",
    "import platform\n",
    "import matplotlib\n",
    "import glob\n",
    "import pandas as pd\n",
    "import numpy as np\n",
    "import matplotlib.pyplot as plt\n",
    "import matplotlib.dates as dates\n",
    "import matplotlib.ticker as tick\n",
    "from matplotlib.backends.backend_pdf import PdfPages\n",
    "import datetime\n",
    "from pylab import rcParams\n",
    "\n",
    "import seaborn as sns\n",
    "\n",
    "import scipy\n",
    "import pyproj\n",
    "import folium\n",
    "\n",
    "from plotly.offline import download_plotlyjs, init_notebook_mode, plot, iplot,iplot_mpl,plot_mpl\n",
    "import plotly.graph_objs as go\n",
    "\n",
    "init_notebook_mode(connected=True)\n",
    "\n",
    "#import wellapplication as wa\n",
    "\n",
    "#import geostatsmodels\n",
    "import scipy.stats\n",
    "\n",
    "import matplotlib\n",
    "from matplotlib import rcParams\n",
    "import matplotlib.pyplot as plt\n",
    "from matplotlib.backends.backend_pdf import PdfPages\n",
    "\n",
    "import statsmodels.api as sm\n",
    "\n",
    "from scipy.interpolate import griddata\n",
    "#import cartopy\n",
    "#import cartopy.crs as ccrs\n",
    "\n",
    "import geopandas\n",
    "from shapely.geometry import Point\n",
    "\n",
    "from pyproj import CRS\n",
    "from pyproj import Transformer\n",
    "\n",
    "\n",
    "\n",
    "rcParams['figure.figsize'] = 15, 10"
   ]
  },
  {
   "cell_type": "code",
   "execution_count": 15,
   "id": "eedf6b4d",
   "metadata": {
    "ExecuteTime": {
     "end_time": "2022-08-14T15:20:14.760633Z",
     "start_time": "2022-08-14T15:20:14.749633Z"
    }
   },
   "outputs": [],
   "source": [
    "import pathlib"
   ]
  },
  {
   "cell_type": "code",
   "execution_count": 13,
   "id": "0f3972a3",
   "metadata": {
    "ExecuteTime": {
     "end_time": "2022-08-14T15:03:48.129014Z",
     "start_time": "2022-08-14T15:03:48.102056Z"
    }
   },
   "outputs": [
    {
     "ename": "ImportError",
     "evalue": "attempted relative import with no known parent package",
     "output_type": "error",
     "traceback": [
      "\u001b[1;31m---------------------------------------------------------------------------\u001b[0m",
      "\u001b[1;31mImportError\u001b[0m                               Traceback (most recent call last)",
      "Input \u001b[1;32mIn [13]\u001b[0m, in \u001b[0;36m<cell line: 1>\u001b[1;34m()\u001b[0m\n\u001b[1;32m----> 1\u001b[0m \u001b[38;5;28;01mfrom\u001b[39;00m \u001b[38;5;21;01m.\u001b[39;00m\u001b[38;5;21;01m.\u001b[39;00m\u001b[38;5;21;01mMicroMet\u001b[39;00m \u001b[38;5;28;01mimport\u001b[39;00m micromet\n",
      "\u001b[1;31mImportError\u001b[0m: attempted relative import with no known parent package"
     ]
    }
   ],
   "source": [
    "from ..MicroMet import micromet\n",
    "\n",
    "mmpath = pathlib.Path(\"G:/Shared drives/UGS_Groundwater/Projects/Eddy_Covariance/Data_Processing/Jupyter_Notebooks/MicroMet\")\n",
    "sys.path.append(llpath)\n",
    "import loggerloader as ll"
   ]
  },
  {
   "cell_type": "code",
   "execution_count": 5,
   "id": "2d35784c",
   "metadata": {
    "ExecuteTime": {
     "end_time": "2022-08-14T15:02:07.139854Z",
     "start_time": "2022-08-14T15:02:07.105345Z"
    }
   },
   "outputs": [
    {
     "ename": "AttributeError",
     "evalue": "'NoneType' object has no attribute 'loader'",
     "output_type": "error",
     "traceback": [
      "\u001b[1;31m---------------------------------------------------------------------------\u001b[0m",
      "\u001b[1;31mAttributeError\u001b[0m                            Traceback (most recent call last)",
      "Input \u001b[1;32mIn [5]\u001b[0m, in \u001b[0;36m<cell line: 3>\u001b[1;34m()\u001b[0m\n\u001b[0;32m      1\u001b[0m \u001b[38;5;28;01mimport\u001b[39;00m \u001b[38;5;21;01mimportlib\u001b[39;00m\u001b[38;5;21;01m.\u001b[39;00m\u001b[38;5;21;01mutil\u001b[39;00m\n\u001b[0;32m      2\u001b[0m spec \u001b[38;5;241m=\u001b[39m importlib\u001b[38;5;241m.\u001b[39mutil\u001b[38;5;241m.\u001b[39mspec_from_file_location(\u001b[38;5;124m\"\u001b[39m\u001b[38;5;124mmicromet\u001b[39m\u001b[38;5;124m\"\u001b[39m, \u001b[38;5;124m\"\u001b[39m\u001b[38;5;124mG:/Shared drives/UGS_Groundwater/Projects/Eddy_Covariance/Data_Processing/Jupyter_Notebooks/MicroMet/micromet/\u001b[39m\u001b[38;5;124m\"\u001b[39m)\n\u001b[1;32m----> 3\u001b[0m micromet \u001b[38;5;241m=\u001b[39m \u001b[43mimportlib\u001b[49m\u001b[38;5;241;43m.\u001b[39;49m\u001b[43mutil\u001b[49m\u001b[38;5;241;43m.\u001b[39;49m\u001b[43mmodule_from_spec\u001b[49m\u001b[43m(\u001b[49m\u001b[43mspec\u001b[49m\u001b[43m)\u001b[49m\n\u001b[0;32m      4\u001b[0m spec\u001b[38;5;241m.\u001b[39mloader\u001b[38;5;241m.\u001b[39mexec_module(dbconnect)\n",
      "File \u001b[1;32m<frozen importlib._bootstrap>:568\u001b[0m, in \u001b[0;36mmodule_from_spec\u001b[1;34m(spec)\u001b[0m\n",
      "\u001b[1;31mAttributeError\u001b[0m: 'NoneType' object has no attribute 'loader'"
     ]
    }
   ],
   "source": [
    "import importlib.util\n",
    "spec = importlib.util.spec_from_file_location(\"micromet\", \"G:/Shared drives/UGS_Groundwater/Projects/Eddy_Covariance/Data_Processing/Jupyter_Notebooks/MicroMet/micromet/\")\n",
    "micromet = importlib.util.module_from_spec(spec)\n",
    "spec.loader.exec_module(dbconnect)\n",
    "\n"
   ]
  },
  {
   "cell_type": "code",
   "execution_count": 3,
   "id": "287b98aa",
   "metadata": {
    "ExecuteTime": {
     "end_time": "2022-08-14T13:53:58.724589Z",
     "start_time": "2022-08-14T13:53:58.706543Z"
    }
   },
   "outputs": [
    {
     "name": "stdout",
     "output_type": "stream",
     "text": [
      "Operating System Windows 10\n",
      "Python Version 3.10.4 | packaged by conda-forge | (main, Mar 24 2022, 17:34:17) [MSC v.1929 64 bit (AMD64)]\n",
      "Pandas Version 1.4.2\n",
      "Numpy Version 1.21.6\n",
      "Matplotlib Version 3.5.1\n",
      "Scipy Version 1.8.0\n",
      "etqaqc\n"
     ]
    }
   ],
   "source": [
    "print(\"Operating System \" + platform.system() + \" \" + platform.release())\n",
    "print(\"Python Version \" + str(sys.version))\n",
    "print(\"Pandas Version \" + str(pd.__version__))\n",
    "print(\"Numpy Version \" + str(np.__version__))\n",
    "print(\"Matplotlib Version \" + str(matplotlib.__version__))\n",
    "#print(\"Well Application Version \" + str(wa.__version__))\n",
    "print(\"Scipy Version \" +str(scipy.__version__))\n",
    "print (os.environ['CONDA_DEFAULT_ENV'])"
   ]
  },
  {
   "cell_type": "markdown",
   "id": "827f0fba",
   "metadata": {},
   "source": [
    "# Useful Libraries (R and Python)\n",
    "\n",
    "## Data Prep and Processing\n",
    "* https://github.com/adamhsparks/EddyCleanR - Fills gaps and removes outliers in eddy covariance data.\n",
    "* https://github.com/bgctw/REddyProc - Processing data from micrometeorological Eddy-Covariance systems \n",
    "* https://github.com/June-Spaceboots/EddyCovarianceProcessing - A collection of code used to processess Eddy Covaraince\n",
    "* https://github.com/UofM-CEOS/flux_capacitor - Tools for processing flux data (eddy covariance).\n",
    "* https://github.com/wsular/EasyFlux-DL-CR3000 - CR3000 datalogger program for Campbell open-path eddy-covariance systems\n",
    "* https://github.com/Open-ET/flux-data-qaqc - Energy Balance Closure Analysis and Eddy Flux Data Post-Processing\n",
    "* https://github.com/lsigut/openeddy - The R Package for Low Frequency Eddy Covariance Data Processing\n",
    "\n",
    "\n",
    "## Partitioning Fluxes\n",
    "* https://github.com/usda-ars-ussl/fluxpart - Python module for partitioning eddy covariance flux measurements. \n",
    "* https://github.com/jnelson18/ecosystem-transpiration - Code and examples of how to estimate transpiration from eddy covariance data. \n",
    "\n",
    "## Remote Sensing Estimates\n",
    "* https://github.com/NASA-DEVELOP/METRIC - For estimating daily evapotranspiration from Landsat data \n",
    "* https://github.com/kratzert/pyTSEB - two Source Energy Balance model for estimation of evapotranspiration with remote sensing data \n",
    "* https://github.com/spizwhiz/openet-ssebop-beta - Earth Engine SSEBop ET Model \n",
    "* https://github.com/pblankenau2/openet-core-beta - OpenET Core Components \n",
    "* https://github.com/tomchor/pymicra - A Python tool for Micrometeorological Analysis\n",
    "\n",
    "## MISC\n",
    "* https://github.com/sunxm19/Planetary_boundary_height_for_FFP - extracting boundary height within North America from NOAA regional data\n",
    "\n",
    "## Reference ET\n",
    "* https://github.com/woodcrafty/PyETo - Python package for calculating reference/potential evapotranspiration (ETo).\n",
    "* https://github.com/cgmorton/RefET-GEE - ASCE Standardized Reference Evapotranspiration Functions for Google Earth Engine (GEE) \n",
    "* https://github.com/usbr/et-demands - Dual crop coefficient crop water demand model \n"
   ]
  },
  {
   "cell_type": "markdown",
   "id": "6ff75253",
   "metadata": {},
   "source": [
    "# Relevant references"
   ]
  },
  {
   "cell_type": "markdown",
   "id": "e0d260f4",
   "metadata": {},
   "source": [
    "[Mauder, M., Cuntz, M., Drüe, C., Graf, A., Rebmann, C., Schmid, H.P., Schmidt, M., and Steinbrecher, R., 2013, A strategy for quality and uncertainty assessment of long-term eddy-covariance measurements: Agricultural and Forest Meteorology, v. 169, p. 122–135., doi: 10.1016/j.agrformet.2012.09.006.](https://drive.google.com/file/d/1u51mxImadycZJRp6fJwpG9j4utXVzUJm/view?usp=sharing)\n"
   ]
  },
  {
   "cell_type": "markdown",
   "id": "01ff13bf",
   "metadata": {},
   "source": [
    "[Foken, T., and Wichura, B., 1996, Tools for quality assessment of surface-based flux measurements: Agricultural and Forest Meteorology, v. 78, no. 1–2, p. 83–105., doi: 10.1016/0168-1923(95)02248-1.](https://drive.google.com/file/d/18oWqfbVnJ97jz7CFITh7Ul-GICV_xktA/view?usp=sharing)"
   ]
  },
  {
   "cell_type": "code",
   "execution_count": null,
   "id": "40df07b9",
   "metadata": {},
   "outputs": [],
   "source": []
  },
  {
   "cell_type": "code",
   "execution_count": null,
   "id": "5d653656",
   "metadata": {},
   "outputs": [],
   "source": []
  },
  {
   "cell_type": "code",
   "execution_count": null,
   "id": "4a50a9ad",
   "metadata": {},
   "outputs": [],
   "source": []
  },
  {
   "cell_type": "markdown",
   "id": "a6c565e7",
   "metadata": {
    "ExecuteTime": {
     "end_time": "2022-04-11T20:43:53.551787Z",
     "start_time": "2022-04-11T20:43:53.532979Z"
    }
   },
   "source": [
    "# QA/QC Raw Data"
   ]
  },
  {
   "cell_type": "markdown",
   "id": "3f5c6915",
   "metadata": {},
   "source": [
    "* How do we decide what motions to count as eddy flux and what as\n",
    "slow variations to be treated deterministically or as instrumental\n",
    "drift to be discarded?\n",
    "* What are the best tools to separate slowly changing (mean) and\n",
    "rapidly varying ( turbulent r parts of our time series?\n",
    "* Can we distinguish between instrument drift and low frequency\n",
    "meteorological signal in the data?\n",
    "* If we cannot distinguish, how large an error do we make if we\n",
    "discard some low frequency meteorological signal along with instrument\n",
    "drift?"
   ]
  },
  {
   "cell_type": "markdown",
   "id": "67cfa136",
   "metadata": {},
   "source": [
    "the most important term was 'rotation and averaging', giving rise to 10-25% uncertainty in their estimates"
   ]
  },
  {
   "cell_type": "markdown",
   "id": "4452085d",
   "metadata": {},
   "source": [
    "* Averaging - best period to average the data over (default is 30 minutes)\n",
    "* Detrending - removing low frequency instrument drift - typically linear, but can be nonlinear\n",
    "* Filtering - removing spikes and noise; Low pass"
   ]
  },
  {
   "cell_type": "markdown",
   "id": "4b922092",
   "metadata": {},
   "source": [
    "The purpose of averaging, detrending and filtering is to separate the active turbulent transport that we treat as eddy flux from slower, deterministic atmospheric motions and instrument drift."
   ]
  },
  {
   "cell_type": "markdown",
   "id": "c3514944",
   "metadata": {},
   "source": [
    "## Despiking"
   ]
  },
  {
   "cell_type": "markdown",
   "id": "751a3883",
   "metadata": {},
   "source": [
    "## Spectral Analysis"
   ]
  },
  {
   "cell_type": "markdown",
   "id": "484b8ecd",
   "metadata": {},
   "source": [
    "### Averaging Period"
   ]
  },
  {
   "cell_type": "markdown",
   "id": "4d69c00c",
   "metadata": {
    "ExecuteTime": {
     "end_time": "2022-04-11T17:14:07.917393Z",
     "start_time": "2022-04-11T17:14:07.910442Z"
    }
   },
   "source": [
    "This can be selected using one of two ways:\n",
    "* Cospectral forms (FT of data)\n",
    "* Ogive plots that integrate under the cospectral curve ([Pymicra](https://pymicra.readthedocs.io/en/latest/tutorial.html?highlight=ogive#obtaining-the-spectra) does this)"
   ]
  },
  {
   "cell_type": "markdown",
   "id": "e10f11f9",
   "metadata": {},
   "source": [
    "https://github.com/BSchilperoort/hydrproc/blob/master/exercise.1.eddy_covariance.ipynb "
   ]
  },
  {
   "cell_type": "markdown",
   "id": "627f4674",
   "metadata": {},
   "source": [
    "https://github.com/cokelaer/spectrum"
   ]
  },
  {
   "cell_type": "markdown",
   "id": "ba5e6aad",
   "metadata": {
    "ExecuteTime": {
     "end_time": "2022-04-11T20:46:07.942132Z",
     "start_time": "2022-04-11T20:46:07.931162Z"
    }
   },
   "source": [
    "https://nbviewer.jupyter.org/github/mattijn/pynotebook/blob/master/2016/2016-05-25%20cross-spectral%20analysis.ipynb"
   ]
  },
  {
   "cell_type": "markdown",
   "id": "b51d4b8a",
   "metadata": {},
   "source": [
    "## Time Lag Determination"
   ]
  },
  {
   "cell_type": "markdown",
   "id": "e69a069a",
   "metadata": {
    "ExecuteTime": {
     "end_time": "2022-04-11T20:50:16.579340Z",
     "start_time": "2022-04-11T20:50:16.569051Z"
    }
   },
   "source": [
    "Spectral attenuation"
   ]
  },
  {
   "cell_type": "markdown",
   "id": "7b9aabdd",
   "metadata": {},
   "source": [
    "## Range Checks"
   ]
  },
  {
   "cell_type": "markdown",
   "id": "941b508b",
   "metadata": {},
   "source": [
    "## Filtering Tools"
   ]
  },
  {
   "cell_type": "markdown",
   "id": "02490648",
   "metadata": {},
   "source": [
    "* Finite Impulse Response FIR - [Scipy Signal Tool](https://docs.scipy.org/doc/scipy/reference/generated/scipy.signal.firwin.html)\n",
    "* Recursive Filter - [Statsmodel Tool](https://www.statsmodels.org/dev/generated/statsmodels.tsa.filters.filtertools.recursive_filter.html)\n",
    "* RC Filter - [Notebook Example](https://notebook.community/mholtrop/Phys605/Python/Signal/RC_Filters_in_Python)"
   ]
  },
  {
   "cell_type": "markdown",
   "id": "1145fa3b",
   "metadata": {
    "ExecuteTime": {
     "end_time": "2022-04-11T18:59:09.133086Z",
     "start_time": "2022-04-11T18:59:09.126106Z"
    }
   },
   "source": [
    "https://stackoverflow.com/questions/25191620/creating-lowpass-filter-in-scipy-understanding-methods-and-units"
   ]
  },
  {
   "cell_type": "code",
   "execution_count": null,
   "id": "1f4d83e5",
   "metadata": {},
   "outputs": [],
   "source": []
  },
  {
   "cell_type": "markdown",
   "id": "768682a7",
   "metadata": {},
   "source": [
    "## Coordinate Rotation"
   ]
  },
  {
   "cell_type": "markdown",
   "id": "c2b3a138",
   "metadata": {},
   "source": [
    "The [Fluxer](https://github.com/UofM-CEOS/flux_capacitor/blob/master/docs/source/index.rst) package does coordinate rotations"
   ]
  },
  {
   "cell_type": "markdown",
   "id": "e8fea33a",
   "metadata": {
    "ExecuteTime": {
     "end_time": "2022-04-11T20:34:37.342238Z",
     "start_time": "2022-04-11T20:34:36.926796Z"
    }
   },
   "source": [
    "### Traditional"
   ]
  },
  {
   "cell_type": "code",
   "execution_count": 4,
   "id": "638399ed",
   "metadata": {
    "ExecuteTime": {
     "end_time": "2022-04-11T20:35:29.474406Z",
     "start_time": "2022-04-11T20:35:29.464300Z"
    }
   },
   "outputs": [],
   "source": [
    "def coord_rotation(df, Ux='Ux', Uy='Uy', Uz='Uz'):\n",
    "    \"\"\"Traditional Coordinate Rotation\n",
    "    \"\"\"\n",
    "    xmean = df[Ux].mean()\n",
    "    ymean = df[Uy].mean()\n",
    "    zmean = df[Uz].mean()\n",
    "    Uxy = np.sqrt(xmean ** 2 + ymean ** 2)\n",
    "    Uxyz = np.sqrt(xmean ** 2 + ymean ** 2 + zmean ** 2)\n",
    "    cosν = xmean / Uxy\n",
    "    sinν = ymean / Uxy\n",
    "    sinTheta = zmean / Uxyz\n",
    "    cosTheta = Uxy / Uxyz\n",
    "    return cosν, sinν, sinTheta, cosTheta, Uxy, Uxyz"
   ]
  },
  {
   "cell_type": "code",
   "execution_count": null,
   "id": "e20174f9",
   "metadata": {},
   "outputs": [],
   "source": [
    "\n",
    "def rotation12_momentum(alph, gamm, U_mean, V_mean, W_mean, UU_cov, VV_cov, WW_cov, UVcov, UWcov, VWcov):\n",
    "    \"\"\"Coordinate rotation corrections.  This function applies the first and second rocations in Tanner and Thurtell (1969).\n",
    "    a. Counterclockwise about the instrument z-axis for Gamma degrees\n",
    "    b. Counterclockwise about the intermediate y-axis for Alpha degrees (Originally clockwise, but this function follows Wilczak and \n",
    "    others (2001) convention of counterclockwise rotation)\n",
    "    \n",
    "    This function transforms the expression of momentum variables in the instrument coordinate system to the natural wind coordinate \n",
    "    system.\n",
    "    \n",
    "    alph = alpha; output of CSAT unit; Angle of counterclockwise rotation about y-axis (pitch); decimal degrees; Wilczak and others (2001)\n",
    "    gamm = gamma; output of CSAT unit; Angle of counterclockwise rotation about z-axis (yaw); decimal degrees; Wilczak and others (2001)\n",
    "    U_mean = Ux_Avg; Average Ux wind vector from CSAT unit; cov_out_sonic(1); (meters per second)\n",
    "    V_mean = Uy_Avg; Average Uy wind vector from CSAT unit; cov_out_sonic(5); (meters per second)\n",
    "    W_mean = Uz_Avg; Average Uz wind vector from CSAT unit; cov_out_sonic(8); (meters per second)\n",
    "    UU_cov = Ux_SIGMA; standard deviation of Ux wind vector from CSAT unit; cov_out_sonic(2); (meters per second)\n",
    "    VV_cov = Uy_SIGMA; standard deviation of Uy wind vector from CSAT unit; cov_out_sonic(6); (meters per second)\n",
    "    WW_cov = Uz_SIGMA; standard deviation of Uz wind vector from CSAT unit; cov_out_sonic(9); (meters per second)\n",
    "    UVcov = UxUy_cov; covariance of Ux and Uy; cov_out_sonic(3); (m2 per s2)\n",
    "    UWcov = UxUz_cov; covariance of Ux and Uz; cov_out_sonic(4); (m2 per s2)\n",
    "    VWcov = UyUz_cov; covariance of Uy and Uz; cov_out_sonic(7); (m2 per s2)\n",
    "\n",
    "    \"\"\"\n",
    " \n",
    "    # UWcov_R and VWcov_R are used first as intermediate variables before both variables are needed for their own roles.\n",
    "    UWcov_R =  UU_cov*np.cos(gamm)*np.cos(gamm) + VV_cov*np.sin(gamm)*np.sin(gamm)\n",
    "    VWcov_R =  UWcov*np.cos(gamm) + VWcov*np.sin(gamm)\n",
    "    \n",
    "    # 3a. ROTATIONS FOR MEAN TERMS\n",
    "    Umean_R = np.cos(alph)*(U_mean*np.cos(gamm) + V_mean*np.sin(gamm)) - W_mean*np.sin(alph)\n",
    "    Vmean_R = 0\n",
    "    Wmean_R = np.sin(alph)*(U_mean*np.sin(gamm) + V_mean*np.sin(gamm)) + W_mean*np.cos(alph)\n",
    "\n",
    "    # b. ROTATIONS FOR VARIANCE TERMS\n",
    "    UUcov_R = np.cos(alph)*np.cosCOS(alph)*UWcov_R + WW_cov*np.sin(alph)*np.sin(alph) + UVcov*np.cos(alph)*np.cos(alph)*np.sin(2*gamm) - np.sin(2*alph)*VWcov_R\n",
    "\n",
    "    VVcov_R = UU_cov*np.sin(gamm)*np.sin(gamm) + VV_cov*np.cos(gamm)*np.cos(gamm) - UVcov*np.sin(2*gamm)\n",
    "\n",
    "    WWcov_R = np.sin(alph)*np.sin(alph)*UWcov_R + WW_cov*np.cos(alph)*np.cos(alph) + UVcov*np.sin(alph)*np.sin(alph)*np.sin(2*gamm) +   SIN(2*alph)*VWcov_R\n",
    "\n",
    "    # c. ROTATIONS FOR COVARIANCE TERMS\n",
    "    UVcov_R = -0.5*(UU_cov - VV_cov)*np.cos(alph)*np.sin(2*gamm) + UVcov*np.cos(alph)*np.cos(2*gamm) + np.sin(alph)*(UWcov*np.sin(gamm) - VWcov*np.cos(gamm))\n",
    "\n",
    "    UWcov_R =  0.5*np.sin(2*alph)*(UWcov_R - WW_cov + UVcov*np.sin(2*gamm)) + np.cos(2*alph)*VWcov_R\n",
    "\n",
    "    VWcov_R = -np.sin(alph)*(0.5*(UU_cov - VV_cov)*np.sin(2*gamm)-UVcov*np.cos(2*gamm)) - np.cos(alph)*(UWcov*np.sin(gamm) - VWcov*np.cos(gamm))\n",
    "\n",
    "    return UVcov_R, UWcov_R, VWcov_R, UUcov_R, VVcov_R, WWcov_R\n",
    "\n",
    "\n",
    "def rotation12_scalar_covariance(alph, gamm, SU_cov, SV_cov, SW_cov):\n",
    "    \"\"\"The 1 and 2 in the function indicates the 1st and 2nd rotations in Tanner and Thurtell (1969). \n",
    "    This function transform the expression of variance of scalar with momentum variables in the instrument \n",
    "    coordinate system to the natural wind coordinate system in x and y.\n",
    "    S is a scalar variable (e.g. CO2, H2O, or T_SONIC)\n",
    "    U_cov, V_cov, W_cov \n",
    "    \n",
    "    alph = alpha; output of CSAT unit; Angle of counterclockwise rotation about y-axis (pitch); decimal degrees; Wilczak and others (2001)\n",
    "    gamm = gamma; output of CSAT unit; Angle of counterclockwise rotation about z-axis (yaw); decimal degrees; Wilczak and others (2001)\n",
    "\n",
    "    \n",
    "    \"\"\"\n",
    "\n",
    "    SUcov_R =  np.cos(alph)*(SU_cov*np.cos(gamm) + SV_cov*np.sin(gamm)) - SW_cov*np.sin(alph)\n",
    "    SVcov_R = -SU_cov*np.sin(gamm) + SV_cov*np.cos(gamm)\n",
    "    SWcov_R =  np.sin(alph)*(SU_cov*np.cos(gamm) + SV_cov*np.sin(gamm)) + SW_cov*np.cos(alph)\n",
    "\n",
    "    return SUcov_R, SVcov_R, SWcov_R\n",
    "\n"
   ]
  },
  {
   "cell_type": "markdown",
   "id": "efbda51c",
   "metadata": {},
   "source": [
    "### Planar Fit"
   ]
  },
  {
   "cell_type": "markdown",
   "id": "a8b9856c",
   "metadata": {},
   "source": [
    "* Determine a period (weeks or longer) during which there was no change in the anemometer's position relative to the surface.\n",
    "* Perform linear regression, using data from the chosen period to define a \"tilted plane\" , or the mean streamline plane (Figure 3.5), where bo, b1 and b2 are regression coefficients, and {u1, 'iJ1, w1} are components of the (30-min) mean velocity in the instrument coordinate system.\n",
    "* Use the regression coefficient b1 and b2 to determine the pitch, roll and yaw angles for rotation as in Wilczak et al. (2001) or alternatively, the base vector set that defines the three coordinate axes (Appendix B).\n",
    "* Project the velocity and flux cross products into the new coordinate system."
   ]
  },
  {
   "cell_type": "code",
   "execution_count": null,
   "id": "42e0c8c0",
   "metadata": {},
   "outputs": [],
   "source": []
  },
  {
   "cell_type": "markdown",
   "id": "c007f910",
   "metadata": {},
   "source": [
    "# Variance and Covariance Computation"
   ]
  },
  {
   "cell_type": "code",
   "execution_count": null,
   "id": "33e7a436",
   "metadata": {},
   "outputs": [],
   "source": []
  }
 ],
 "metadata": {
  "kernelspec": {
   "display_name": "Python 3 (ipykernel)",
   "language": "python",
   "name": "python3"
  },
  "language_info": {
   "codemirror_mode": {
    "name": "ipython",
    "version": 3
   },
   "file_extension": ".py",
   "mimetype": "text/x-python",
   "name": "python",
   "nbconvert_exporter": "python",
   "pygments_lexer": "ipython3",
   "version": "3.10.4"
  },
  "latex_envs": {
   "LaTeX_envs_menu_present": true,
   "autoclose": false,
   "autocomplete": true,
   "bibliofile": "biblio.bib",
   "cite_by": "apalike",
   "current_citInitial": 1,
   "eqLabelWithNumbers": true,
   "eqNumInitial": 1,
   "hotkeys": {
    "equation": "Ctrl-E",
    "itemize": "Ctrl-I"
   },
   "labels_anchors": false,
   "latex_user_defs": false,
   "report_style_numbering": false,
   "user_envs_cfg": false
  },
  "toc": {
   "base_numbering": 1,
   "nav_menu": {},
   "number_sections": true,
   "sideBar": true,
   "skip_h1_title": false,
   "title_cell": "Table of Contents",
   "title_sidebar": "Contents",
   "toc_cell": false,
   "toc_position": {},
   "toc_section_display": true,
   "toc_window_display": false
  },
  "varInspector": {
   "cols": {
    "lenName": 16,
    "lenType": 16,
    "lenVar": 40
   },
   "kernels_config": {
    "python": {
     "delete_cmd_postfix": "",
     "delete_cmd_prefix": "del ",
     "library": "var_list.py",
     "varRefreshCmd": "print(var_dic_list())"
    },
    "r": {
     "delete_cmd_postfix": ") ",
     "delete_cmd_prefix": "rm(",
     "library": "var_list.r",
     "varRefreshCmd": "cat(var_dic_list()) "
    }
   },
   "types_to_exclude": [
    "module",
    "function",
    "builtin_function_or_method",
    "instance",
    "_Feature"
   ],
   "window_display": false
  }
 },
 "nbformat": 4,
 "nbformat_minor": 5
}
